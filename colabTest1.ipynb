{
  "nbformat": 4,
  "nbformat_minor": 0,
  "metadata": {
    "colab": {
      "name": "colabTest1.ipynb",
      "version": "0.3.2",
      "provenance": [],
      "collapsed_sections": [],
      "include_colab_link": true
    },
    "kernelspec": {
      "name": "python3",
      "display_name": "Python 3"
    }
  },
  "cells": [
    {
      "cell_type": "markdown",
      "metadata": {
        "id": "view-in-github",
        "colab_type": "text"
      },
      "source": [
        "<a href=\"https://colab.research.google.com/github/jsherrah/testpublic/blob/master/colabTest1.ipynb\" target=\"_parent\"><img src=\"https://colab.research.google.com/assets/colab-badge.svg\" alt=\"Open In Colab\"/></a>"
      ]
    },
    {
      "cell_type": "code",
      "metadata": {
        "id": "-dKMh2akK3Z3",
        "colab_type": "code",
        "colab": {}
      },
      "source": [
        "# test for github connectivity\n"
      ],
      "execution_count": 0,
      "outputs": []
    },
    {
      "cell_type": "code",
      "metadata": {
        "id": "df0DudVgA5os",
        "colab_type": "code",
        "colab": {}
      },
      "source": [
        "print('first mod')"
      ],
      "execution_count": 0,
      "outputs": []
    },
    {
      "cell_type": "code",
      "metadata": {
        "id": "Z5ENhzeYBVHx",
        "colab_type": "code",
        "colab": {}
      },
      "source": [
        "print('second')"
      ],
      "execution_count": 0,
      "outputs": []
    },
    {
      "cell_type": "code",
      "metadata": {
        "id": "OUwngGusBh8B",
        "colab_type": "code",
        "colab": {}
      },
      "source": [
        "print('third')"
      ],
      "execution_count": 0,
      "outputs": []
    }
  ]
}